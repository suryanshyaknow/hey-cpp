{
 "cells": [
  {
   "cell_type": "markdown",
   "id": "4157d496",
   "metadata": {},
   "source": [
    "# i. Namespace & Scope"
   ]
  },
  {
   "cell_type": "markdown",
   "id": "e925c628",
   "metadata": {},
   "source": [
    "## i.i Namespace\n",
    "\n",
    "In programming, a **Namespace** is a way to group related identifiers (such as variables, functions, and classes) together so that they can be referred to by a specific name. Namespaces are used to avoid naming conflicts between different parts of a program that might use the same identifier name."
   ]
  },
  {
   "cell_type": "markdown",
   "id": "5163d328",
   "metadata": {},
   "source": [
    "## i.ii Scope\n",
    "\n",
    "A **Scope** is a region of a program **where a particular identifier (such as a variable or function) remains relevant** and can be accessed. **The scope determines where an identifier can be used and how long it remains in memory.**"
   ]
  },
  {
   "cell_type": "markdown",
   "id": "b6722606",
   "metadata": {},
   "source": [
    "**For example**, let's say we have two functions named **\"foo\"** in our program, one in the **\"math\"** library and another in our own code. To avoid naming conflicts, we can use namespaces to differentiate between them. We can define the **\"foo\"** function in our own code within the **\"spidey\"** namespace, like this:\n",
    "\n",
    "```\n",
    "namespace spidey {\n",
    "    void foo() {\n",
    "        // implementation\n",
    "    }\n",
    "}\n",
    "```\n",
    "\n",
    "Now, to use this function, we'd need to specify the namespace:\n",
    "\n",
    "```\n",
    "spidey::foo\n",
    "```\n",
    "\n",
    "\n",
    "**NOTE:** Say, you wanna access a global identifier, a variable named `foo`, we can access it by:\n",
    "\n",
    "```\n",
    "::foo\n",
    "```"
   ]
  }
 ],
 "metadata": {
  "kernelspec": {
   "display_name": "Python 3 (ipykernel)",
   "language": "python",
   "name": "python3"
  },
  "language_info": {
   "codemirror_mode": {
    "name": "ipython",
    "version": 3
   },
   "file_extension": ".py",
   "mimetype": "text/x-python",
   "name": "python",
   "nbconvert_exporter": "python",
   "pygments_lexer": "ipython3",
   "version": "3.9.13"
  }
 },
 "nbformat": 4,
 "nbformat_minor": 5
}
