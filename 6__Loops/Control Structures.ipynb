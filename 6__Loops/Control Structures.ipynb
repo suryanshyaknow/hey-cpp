{
 "cells": [
  {
   "cell_type": "markdown",
   "id": "f5af0b04",
   "metadata": {},
   "source": [
    "# i. Control Structures"
   ]
  },
  {
   "cell_type": "markdown",
   "id": "ab5bf1e5",
   "metadata": {},
   "source": [
    "In C++, **Control Structures** are used **to alter the normal flow of execution of a program based on certain conditions**. They can be broadly classified into the following three types:\n",
    "\n",
    "\n",
    "- ### Selection Statements\n",
    "    Selection statements allow a program **to execute different parts of the code based on the evaluation of certain conditions.** The most commonly used selection statements in C++ are:<br><br>\n",
    "    \n",
    "    - **if statement**\n",
    "    - **if-else statement**\n",
    "    - **nested if-else statement**\n",
    "    - **switch statement**<br><br>\n",
    "\n",
    "- ### Iteration Statements\n",
    "    Iteration statements, also known as **loops**, are used **to repeat a block of code until a certain condition is met**. The most commonly used iteration statements in C++ are:<br><br>\n",
    "    \n",
    "    - **while loop**\n",
    "    - **do-while loop**\n",
    "    - **for loop**\n",
    "    - **range-based for loop**<br><br>\n",
    "\n",
    "- ### Jump Statements\n",
    "    Jump statements allow a program **to transfer control to a different part of the code**. The most commonly used jump statements in C++ are:<br><br>\n",
    "    \n",
    "    - **break statement**\n",
    "    - **continue statement**\n",
    "    - **goto statement**\n",
    "    - **return statement**"
   ]
  },
  {
   "cell_type": "markdown",
   "id": "3d7aedca",
   "metadata": {},
   "source": [
    "**These control structures are essential for writing efficient and effective programs.**"
   ]
  }
 ],
 "metadata": {
  "kernelspec": {
   "display_name": "Python 3 (ipykernel)",
   "language": "python",
   "name": "python3"
  },
  "language_info": {
   "codemirror_mode": {
    "name": "ipython",
    "version": 3
   },
   "file_extension": ".py",
   "mimetype": "text/x-python",
   "name": "python",
   "nbconvert_exporter": "python",
   "pygments_lexer": "ipython3",
   "version": "3.9.13"
  }
 },
 "nbformat": 4,
 "nbformat_minor": 5
}
