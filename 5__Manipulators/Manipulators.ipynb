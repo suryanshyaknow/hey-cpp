{
 "cells": [
  {
   "cell_type": "markdown",
   "id": "e1a9b874",
   "metadata": {},
   "source": [
    "# i. Manipulators"
   ]
  },
  {
   "cell_type": "markdown",
   "id": "fe095204",
   "metadata": {},
   "source": [
    "In C++, **Manipulators** are **special functions that are used to modify the behavior of input/output streams**. They are used with the insertion (<<) and extraction (>>) operators to perform special tasks such as **formatting input** and **output data**.\n",
    "\n",
    "Manipulators can be used to **format the output in a certain way**, such as setting the precision for floating-point numbers, or to **modify the way input is read from the user**, such as skipping whitespace."
   ]
  },
  {
   "cell_type": "markdown",
   "id": "2909c795",
   "metadata": {},
   "source": [
    "Some common manipulators in C++ include:\n",
    "\n",
    "- **`endl`:** inserts a new line character and flushes the output stream.<br><br>\n",
    "\n",
    "- **`setw()`:** sets the width of the field in which data is printed.<br><br>\n",
    "\n",
    "- **`setprecision()`:** sets the number of decimal places for floating-point values.<br><br>\n",
    "\n",
    "- **`noskipws`:** disables skipping of whitespace during input.<br><br>\n",
    "\n",
    "- **`skipws`:** enables skipping of whitespace during input.<br><br>\n",
    "\n",
    "Manipulators can also be created by the programmer to perform custom operations on input and output streams."
   ]
  }
 ],
 "metadata": {
  "kernelspec": {
   "display_name": "Python 3 (ipykernel)",
   "language": "python",
   "name": "python3"
  },
  "language_info": {
   "codemirror_mode": {
    "name": "ipython",
    "version": 3
   },
   "file_extension": ".py",
   "mimetype": "text/x-python",
   "name": "python",
   "nbconvert_exporter": "python",
   "pygments_lexer": "ipython3",
   "version": "3.9.13"
  }
 },
 "nbformat": 4,
 "nbformat_minor": 5
}
