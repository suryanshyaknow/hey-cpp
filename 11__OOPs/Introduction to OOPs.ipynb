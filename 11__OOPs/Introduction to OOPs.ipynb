{
 "cells": [
  {
   "cell_type": "code",
   "execution_count": 1,
   "id": "efff584c",
   "metadata": {},
   "outputs": [
    {
     "data": {
      "application/javascript": [
       "IPython.notebook.set_autosave_interval(15000)"
      ]
     },
     "metadata": {},
     "output_type": "display_data"
    },
    {
     "name": "stdout",
     "output_type": "stream",
     "text": [
      "Autosaving every 15 seconds\n"
     ]
    }
   ],
   "source": [
    "%autosave 15"
   ]
  },
  {
   "cell_type": "markdown",
   "id": "93590cc2",
   "metadata": {},
   "source": [
    "# i. Structures vs Classes"
   ]
  },
  {
   "cell_type": "markdown",
   "id": "2eac4534",
   "metadata": {},
   "source": [
    "**Structures** were originally intended **for grouping together related data**, while **classes** were intended **for more complex, object-oriented programming**. However, over time the distinction between the two has become less clear and they can often be used interchangeably.\n",
    "\n",
    "### i.i Structures\n",
    "\n",
    "- By default, **members in structures are public**. Anyfuckingbody can access them.<br><br>\n",
    "\n",
    "- Only being **used to represent simple collections of data with little to no behaviour**. Unlike classes, they can't have their own methods or functions and apparently be used to implement **inheritance** and **polymorphism**.\n",
    "\n",
    "### i.ii Classes\n",
    "\n",
    "- Structures + more functionality.<br><br>\n",
    "\n",
    "- Can of course have methods and functions.<br><br>\n",
    "\n",
    "- Have the ability to hide data. Implying can make members private or public as per the desire."
   ]
  },
  {
   "cell_type": "markdown",
   "id": "d0302edf",
   "metadata": {},
   "source": [
    "# ii. OOPs (Object Oriented Programming)\n",
    "\n",
    "**OOPs** allows us programmers to create our own **objects having their own methods and attributes**. Generally speaking, it allows us to **create code that is repeatable and more organized**.\n",
    "\n",
    "## ii.i Why OOPs?\n",
    "\n",
    "- Basically, to overcome the problems faced in C language. Major problems like li'l to no like readability and maintainablity, and bugs and stuff when the program size increases was tackled by the OOPs competency.<br><br>\n",
    "\n",
    "- The results of the aforementioned problems were **\"not addressing the problem in an effective manner\"** and **\"data neglection and as such security was easily compromised\"**.<br><br>\n",
    "\n",
    "- C was majorly relied on function ans procedures (and hence the name **P**rocedure **O**riented **P**rograming language)."
   ]
  },
  {
   "cell_type": "markdown",
   "id": "548be58f",
   "metadata": {},
   "source": [
    "# iii. Fundamental Concepts in OOPs\n",
    "\n",
    "**iii.i**   Classes\n",
    "\n",
    "**iii.ii**  Objects\n",
    "\n",
    "**iii.iii** Encapsulation\n",
    "\n",
    "**iii.iv**  Abstraction\n",
    "\n",
    "**iii.v**   Polymorphism\n",
    "\n",
    "**iii.vi**  Inheritance"
   ]
  },
  {
   "cell_type": "markdown",
   "id": "240e1a93",
   "metadata": {},
   "source": [
    "## iii.i Classes and Objects\n",
    "\n",
    "### Classes\n",
    "Primarily used for creating user-defined datatypes i.e **objects**, having their own data members and functions, which all can be accesssed and put up to use. **In other words, a Class is a template or blue-print of an object.**\n",
    "\n",
    "### Objects\n",
    "\n",
    "Objects are collection of **data (variables)** and **members (functions)** that act on that data. \n",
    "\n",
    "Similar to way classes serves as blueprint or template for creating objects, **an object is an instance of a class and can be thought of as a variable of that class**. So, just as a blueprint defines the structure and characteristics of a building, a class defines the properties and behavior that objects of that class should have. **Once we create an object from a class, that object has its own unique state and behavior, but it also inherits the properties and behavior defined in the class.**\n",
    "\n",
    "The act of creating an instance of class i.e. object is called **Instantiation**."
   ]
  },
  {
   "cell_type": "markdown",
   "id": "80f15324",
   "metadata": {},
   "source": [
    "# iv. Objects and Member Functions Memory Allocation"
   ]
  },
  {
   "cell_type": "markdown",
   "id": "c833edb7",
   "metadata": {},
   "source": [
    "In C++, **memory is not allocated for the class itself at runtime**, only for objects of that class.\n",
    "\n",
    "When we define a class, we are defining the properties and behavior that objects of that class should have, **but the class itself does not exist in memory at runtime**. The compiler uses the class definition to generate code that will create objects of that class at runtime, but the class itself is not an object and does not have a memory allocation.\n",
    "\n",
    "But **the way memory is allocated to variables(objects) and functions(methods) of the class is different** even though they both are from the same class.\n",
    "\n",
    "1. **Memory Allocation for Objects:** The memory is only allocated to the variables of the class i.e. objects when one gets created. **The memory is not allocated to the variables when the class is \"declared\".**\n",
    " \n",
    "   **When an object is created, the computer sets aside a chunk of memory large enough to hold all of the object's member variables.** The object's member variables are then stored in this memory.\n",
    "\n",
    "   The memory for an object is allocated when the object is created and **is released only when the object is destroyed**. This happens automatically in C++, thanks to a mechanism called **\"automatic memory management\"** or **\"automatic garbage collection\"**.\n",
    "   \n",
    "   **NOTE:** Since variables having same name can have different values for different objects, goes without sayin though, thus every object created will have an individual copy of all the variables of the class.<br><br>\n",
    "\n",
    "2. **Memory Allocation for Member Functions:** Not to mention, logic written inside some member function is gonna be same for all the objects and **as such the memory is allocated to the methods of the class only once** when the class gets created.\n",
    "\n",
    "   However, this memory is not allocated separately from the memory used by the objects themselves. **So while it is true that the code for the member functions is shared among all objects of the class, this does not mean that the memory used by the member functions is allocated separately from the memory used by the objects themselves.**"
   ]
  }
 ],
 "metadata": {
  "kernelspec": {
   "display_name": "Python 3 (ipykernel)",
   "language": "python",
   "name": "python3"
  },
  "language_info": {
   "codemirror_mode": {
    "name": "ipython",
    "version": 3
   },
   "file_extension": ".py",
   "mimetype": "text/x-python",
   "name": "python",
   "nbconvert_exporter": "python",
   "pygments_lexer": "ipython3",
   "version": "3.9.13"
  }
 },
 "nbformat": 4,
 "nbformat_minor": 5
}
