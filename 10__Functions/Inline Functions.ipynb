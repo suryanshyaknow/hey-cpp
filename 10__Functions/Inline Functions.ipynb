{
 "cells": [
  {
   "cell_type": "markdown",
   "id": "10f8aaf9",
   "metadata": {},
   "source": [
    "# i. Inline Functions"
   ]
  },
  {
   "cell_type": "markdown",
   "id": "cebc1f0b",
   "metadata": {},
   "source": [
    "- When a function is called, the CPU needs to remember where to return to after the function call is completed. To do this, the CPU stores the **memory address of the instruction** following the function call in a special register called the **\"return address\"**.<br><br>\n",
    "\n",
    "- Following that it has to copy the actual params to the formal ones, and transfer the control to the specified function.\n",
    "  \n",
    "  This process **can become an overhead if the execution time of the function is less than the switching time from the caller function to the called function.**\n",
    "\n",
    "  **For example**, if a function is called frequently and it takes only a few clock cycles to execute, the overhead of the function call can become significant and may negatively impact the performance of the program.\n",
    "\n",
    "  In such cases, **using the inline functions can help to reduce the overhead by avoiding the function call and instead inserting the code directly into the calling function**.<br><br>\n",
    "  \n",
    "An `Inline function` in C++ is a **function that is inserted directly into the code at the point where it is called, instead of being executed as a separate function call**. This can make the program faster and more efficient because it eliminates the overhead of function call, which includes pushing and popping variables onto and off the stack. It's kinda a `lambda` equivalent of Python."
   ]
  },
  {
   "cell_type": "markdown",
   "id": "adc27341",
   "metadata": {},
   "source": [
    "## i.ii Where the Inline functions shan't be used"
   ]
  },
  {
   "cell_type": "markdown",
   "id": "4f1bfb40",
   "metadata": {},
   "source": [
    "**NOTE:** Remember, **inlining** is only a request to the compiler, not a command. Compiler can very much ignore the request for inlining.\n",
    "\n",
    "### 1. When the function's logic is complex or otherwise the whole purpose of creating function is defeated:\n",
    "Inlining can cause **code bloat**, **where the inlined code becomes much larger than the original function**. This can make the program slower and less efficient. Therefore, it's generally not recommended to inline complex functions, as the inlined code can be difficult to read and maintain.<br><br>\n",
    "\n",
    "### 2. Whenever static variables are used inside the function:\n",
    "Static variables are initialized only once, and their values persist across function calls. **When a function is inlined, the static variables become part of the calling function's scope, which can cause unexpected behavior.** Therefore, it's generally not recommended to inline functions that use static variables.<br><br>\n",
    "\n",
    "### 3. If a function contains a loop (for, while, do-while):\n",
    "**Inlining a function with a loop can cause code bloat, as the loop logic will be duplicated every time the function is called.** This can make the program slower and less efficient. Therefore, it's generally not recommended to inline functions that contain loops.<br><br>\n",
    "\n",
    "### 4. If a function is recursive:\n",
    "Inlining a recursive function can cause **`infinite recursion`**, **as the function will keep calling itself without any termination condition**. Therefore, it's generally not recommended to inline recursive functions.<br><br>\n",
    "\n",
    "### 5. If a function return type is other than void, and the return statement doesn’t exist in function body:\n",
    "Inlining a function that returns a value but does not have a return statement in its body can cause undefined behavior. Therefore, it's generally not recommended to inline such functions.<br><br>\n",
    "\n",
    "### 6. If a function contains switch or goto statement:\n",
    "Inlining a function that contains a switch or goto statement can cause code bloat and can make the program slower and less efficient. Therefore, it's generally not recommended to inline functions that contain switch or goto statements.<br><br>\n",
    "\n",
    "In general, **it's important to consider the trade-offs between code size and efficiency when deciding whether to inline a function**. Small, simple functions that are called frequently may benefit from inlining, while larger, complex functions or functions that are called infrequently may not be good candidates for inlining."
   ]
  }
 ],
 "metadata": {
  "kernelspec": {
   "display_name": "Python 3 (ipykernel)",
   "language": "python",
   "name": "python3"
  },
  "language_info": {
   "codemirror_mode": {
    "name": "ipython",
    "version": 3
   },
   "file_extension": ".py",
   "mimetype": "text/x-python",
   "name": "python",
   "nbconvert_exporter": "python",
   "pygments_lexer": "ipython3",
   "version": "3.9.13"
  }
 },
 "nbformat": 4,
 "nbformat_minor": 5
}
