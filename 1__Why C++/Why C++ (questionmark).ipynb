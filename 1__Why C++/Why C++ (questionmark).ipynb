{
 "cells": [
  {
   "cell_type": "markdown",
   "id": "16d7a5e7",
   "metadata": {},
   "source": [
    "# i. C++\n",
    "\n",
    "**Traits:** Fast programs, more control over hardware/system resources, and effective memory management."
   ]
  },
  {
   "cell_type": "markdown",
   "id": "accfad49",
   "metadata": {},
   "source": [
    "C++ is often considered an **`intermediate-level`** language because it combines features of both **\"high-level\"** and **\"low-level\"** languages.\n",
    "\n",
    "**NOTE:** Every single program written in a high-level language must be **interpreted** into **machine language** before neing executed by the computer.\n",
    "\n",
    "- On the one hand, C++ provides **high-level abstractions** that make it easy to write code that is easy to read, understand, and maintain. \n",
    "\n",
    "    For example, C++ supports **object-oriented programming (OOP)** concepts such as classes and objects, which allow you to organize your code into modular, reusable components. It also supports **templates**, which enable generic programming and make it possible to write code that works with many different types of data.<br><br>\n",
    "    \n",
    "- On the other hand, C++ also provides **low-level features that allow us to interact directly with hardware and memory**. \n",
    "    \n",
    "    For example, C++ allows us to work with **pointers**, **which are variables that store memory addresses and can be used to manipulate data directly in memory**. This gives us fine-grained control over memory management and can be important for performance-critical applications such as device drivers or embedded systems programming."
   ]
  },
  {
   "cell_type": "markdown",
   "id": "7091cedc",
   "metadata": {},
   "source": [
    "## i.i Why C++?"
   ]
  },
  {
   "cell_type": "markdown",
   "id": "4029f557",
   "metadata": {},
   "source": [
    "1. **Performance:** C++ is a **compiled** language, which means that it can execute much faster than an interpreted language like Python. This can be important for algorithms that need to process large amounts of data.<br><br>\n",
    "\n",
    "2. **Closer to Hardware:** We can instruct or compel hardware via C++ to perform exact operations that we desire.<br>\n",
    "\n",
    "    The reason being is C++ is also considered as **low-level programming language** that provides a lot of control over the hardware. It allows us to manipulate memory directly, work with pointers, and perform other low-level operations that are necessary for controlling hardware.\n",
    "\n",
    "    **For example**, we can use C++ to write device drivers that control hardware devices such as printers, scanners, and cameras. These drivers can communicate with the hardware directly and perform precise operations to control the device's behavior.<br><br>\n",
    "\n",
    "3. C++ posesses **vitality** for performance-critical applications that need **\"SPEED\"** and **\"EFFECTIVE MEMORY MANAGEMENT\"**.\n",
    "\n",
    "    **for example**, Software development, game development, virtual reality, robotics, and scientific computing."
   ]
  }
 ],
 "metadata": {
  "kernelspec": {
   "display_name": "Python 3 (ipykernel)",
   "language": "python",
   "name": "python3"
  },
  "language_info": {
   "codemirror_mode": {
    "name": "ipython",
    "version": 3
   },
   "file_extension": ".py",
   "mimetype": "text/x-python",
   "name": "python",
   "nbconvert_exporter": "python",
   "pygments_lexer": "ipython3",
   "version": "3.9.13"
  }
 },
 "nbformat": 4,
 "nbformat_minor": 5
}
