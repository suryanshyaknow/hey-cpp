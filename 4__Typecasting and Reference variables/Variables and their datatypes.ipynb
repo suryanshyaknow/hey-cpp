{
 "cells": [
  {
   "cell_type": "markdown",
   "id": "29e24640",
   "metadata": {},
   "source": [
    "# i. Variable types"
   ]
  },
  {
   "cell_type": "markdown",
   "id": "9c374778",
   "metadata": {},
   "source": [
    "In C++, there are several different types of **variables or built-in datatypes that we can use to store different kinds of data**. Here are some of the most commonly used variable types:\n",
    "\n",
    "1. **`int`:** Used to store integer values (whole numbers). For example: `int x = 42;`<br><br>\n",
    "\n",
    "2. **`float`:** Used to store floating point values (decimal numbers). For example: `float y = 3.14;`<br><br>\n",
    "\n",
    "3. **`double`:** **Similar to float, but with a higher precision.** Used to store decimal numbers with more decimal places. For example: `double z = 3.14159265359;`<br><br>\n",
    "\n",
    "4. **`bool`:** Used to store Boolean values (true or false). For example: `bool a = true;`<br><br>\n",
    "\n",
    "5. **`char`:** Used to store single characters. For example: `char b = 'x';`<br><br>\n",
    "\n",
    "6. **`string`:** Used to store a sequence of characters (a string). For example: `string s = \"Hello, world!\";`<br><br>\n",
    "\n",
    "7. **`void`:** Used to represent the absence of a value. For example: `void f() { /* do something */ }`<br><br>\n",
    "\n",
    "There are also more advanced variable types in C++, such as **arrays**, **structures**, and **classes**, that allow us to store more complex data structures. Additionally, C++ allows us to define our own **custom data types using classes and templates.**"
   ]
  },
  {
   "cell_type": "markdown",
   "id": "0715ca9e",
   "metadata": {},
   "source": [
    "# ii. Datatypes in C++\n",
    "\n",
    "Datatypes in C++ can be categorized in the following three groups:\n",
    "\n",
    "- **Built-in datatypes**<br><br>\n",
    "\n",
    "- **User defined datatypes**\n",
    "    - Struct (Structures)\n",
    "    - Union\n",
    "    - enum\n",
    "    <br><br>\n",
    "    \n",
    "- **Defined datatypes**"
   ]
  },
  {
   "cell_type": "markdown",
   "id": "74f1150c",
   "metadata": {},
   "source": [
    "# iii. Size & Range of Datatypes "
   ]
  },
  {
   "cell_type": "markdown",
   "id": "1a0fb5be",
   "metadata": {},
   "source": [
    "## i.ii Size of datatypes\n",
    "\n",
    "The sizes of datatypes are typically given in bytes. Here are the byte sizes for each of the data types:\n",
    "\n",
    "- **`bool`:** 1 byte<br><br>\n",
    "\n",
    "- **`char`:** 1 byte<br><br>\n",
    "\n",
    "- **`short`:** 2 bytes<br><br>\n",
    "\n",
    "- **`int`:** 4 bytes<br><br>\n",
    "\n",
    "- **`long`:** 4 bytes (on a 32-bit system) or 8 bytes (on a 64-bit system)<br><br>\n",
    "\n",
    "- **`float`:** 4 bytes<br><br>\n",
    "\n",
    "- **`double`:** 8 bytes<br><br>\n",
    "\n",
    "- **`long double`:** 16 bytes (on most systems)<br><br>"
   ]
  },
  {
   "cell_type": "markdown",
   "id": "ef57895a",
   "metadata": {},
   "source": [
    "## iii.ii Range of datatypes\n",
    "\n",
    "Here are the commonly used data types in C++ and their ranges:\n",
    "\n",
    "\n",
    "- **`bool`:** A boolean value that can be either **true** or **false**.<br><br>\n",
    "\n",
    "- **`char`:** A single character that can represent a letter, digit, or symbol. The range of a char is typically from `-128 to 127` or from `0 to 255`, depending on whether it is signed or unsigned.<br><br>\n",
    "\n",
    "- **`short`:** A short integer that can represent values from `-32,768 to 32,767` or from `0 to 65,535`, depending on whether it is signed or unsigned.<br><br>\n",
    "\n",
    "- **`int`:** An integer that can represent values from `-2,147,483,648` to `2,147,483,647` or from `0 to 4,294,967,295`, depending on whether it is signed or unsigned.<br><br>\n",
    " \n",
    "- **`long`:** A long integer that can represent values from `-9,223,372,036,854,775,808 to 9,223,372,036,854,775,807` or from `0 to 18,446,744,073,709,551,615`, depending on whether it is signed or unsigned.<br><br>\n",
    "\n",
    "- **`float`:** A floating-point number that can represent decimal values with **up to 7 digits of precision**.<br><br>\n",
    "\n",
    "- **`double`:** A double-precision floating-point number that can represent decimal values with **up to 15 digits of precision**.<br><br>\n",
    "\n",
    "- **`long double`:** A long double-precision floating-point number that can represent decimal values with even higher precision than double.<br><br>"
   ]
  }
 ],
 "metadata": {
  "kernelspec": {
   "display_name": "Python 3 (ipykernel)",
   "language": "python",
   "name": "python3"
  },
  "language_info": {
   "codemirror_mode": {
    "name": "ipython",
    "version": 3
   },
   "file_extension": ".py",
   "mimetype": "text/x-python",
   "name": "python",
   "nbconvert_exporter": "python",
   "pygments_lexer": "ipython3",
   "version": "3.9.13"
  }
 },
 "nbformat": 4,
 "nbformat_minor": 5
}
